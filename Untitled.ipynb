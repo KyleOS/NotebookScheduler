{
 "cells": [
  {
   "cell_type": "code",
   "execution_count": 1,
   "metadata": {},
   "outputs": [],
   "source": [
    "from git import Repo"
   ]
  },
  {
   "cell_type": "code",
   "execution_count": 6,
   "metadata": {},
   "outputs": [],
   "source": [
    "PATH_OF_GIT_REPO = r'.'  # make sure .git folder is properly configured/"
   ]
  },
  {
   "cell_type": "code",
   "execution_count": 7,
   "metadata": {},
   "outputs": [
    {
     "data": {
      "text/plain": [
       "'.'"
      ]
     },
     "execution_count": 7,
     "metadata": {},
     "output_type": "execute_result"
    }
   ],
   "source": [
    "PATH_OF_GIT_REPO"
   ]
  },
  {
   "cell_type": "code",
   "execution_count": 8,
   "metadata": {},
   "outputs": [],
   "source": [
    "repo = Repo(PATH_OF_GIT_REPO)"
   ]
  },
  {
   "cell_type": "code",
   "execution_count": null,
   "metadata": {},
   "outputs": [],
   "source": [
    "def git_push():\n",
    "                try:\n",
    "                    repo = Repo(PATH_OF_GIT_REPO)\n",
    "                    repo.git.add(update=True)\n",
    "                    repo.index.commit(output_file)\n",
    "                    origin = repo.remote(name='origin')\n",
    "                    origin.push()\n",
    "                except:\n",
    "                    print('Some error occured while pushing the code')    \n",
    "\n",
    "            git_push()"
   ]
  }
 ],
 "metadata": {
  "kernelspec": {
   "display_name": "Python 3.8.1 64-bit ('playground': conda)",
   "language": "python",
   "name": "python38164bitplaygroundconda196628b2269a44878496bc7f3d0e483d"
  },
  "language_info": {
   "codemirror_mode": {
    "name": "ipython",
    "version": 3
   },
   "file_extension": ".py",
   "mimetype": "text/x-python",
   "name": "python",
   "nbconvert_exporter": "python",
   "pygments_lexer": "ipython3",
   "version": "3.8.1"
  }
 },
 "nbformat": 4,
 "nbformat_minor": 4
}
