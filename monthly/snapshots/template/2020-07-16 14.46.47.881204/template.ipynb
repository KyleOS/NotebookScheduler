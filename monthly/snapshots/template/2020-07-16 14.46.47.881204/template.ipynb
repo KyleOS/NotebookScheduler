{
 "cells": [
  {
   "cell_type": "markdown",
   "metadata": {
    "papermill": {
     "duration": 0.007646,
     "end_time": "2020-07-16T12:46:50.190145",
     "exception": false,
     "start_time": "2020-07-16T12:46:50.182499",
     "status": "completed"
    },
    "tags": []
   },
   "source": [
    "# Sales Report"
   ]
  },
  {
   "cell_type": "code",
   "execution_count": 1,
   "metadata": {
    "execution": {
     "iopub.execute_input": "2020-07-16T12:46:50.215082Z",
     "iopub.status.busy": "2020-07-16T12:46:50.214179Z",
     "iopub.status.idle": "2020-07-16T12:46:51.082770Z",
     "shell.execute_reply": "2020-07-16T12:46:51.083118Z"
    },
    "papermill": {
     "duration": 0.882206,
     "end_time": "2020-07-16T12:46:51.083274",
     "exception": false,
     "start_time": "2020-07-16T12:46:50.201068",
     "status": "completed"
    },
    "tags": []
   },
   "outputs": [],
   "source": [
    "import pandas as pd\n",
    "import matplotlib.pyplot as plt\n",
    "%matplotlib inline"
   ]
  },
  {
   "cell_type": "code",
   "execution_count": 2,
   "metadata": {
    "execution": {
     "iopub.execute_input": "2020-07-16T12:46:51.094908Z",
     "iopub.status.busy": "2020-07-16T12:46:51.094390Z",
     "iopub.status.idle": "2020-07-16T12:46:51.097191Z",
     "shell.execute_reply": "2020-07-16T12:46:51.096825Z"
    },
    "papermill": {
     "duration": 0.009946,
     "end_time": "2020-07-16T12:46:51.097287",
     "exception": false,
     "start_time": "2020-07-16T12:46:51.087341",
     "status": "completed"
    },
    "tags": [
     "parameters"
    ]
   },
   "outputs": [],
   "source": [
    "filename = \"../data/sales_january.xlsx\""
   ]
  },
  {
   "cell_type": "code",
   "execution_count": 3,
   "metadata": {
    "execution": {
     "iopub.execute_input": "2020-07-16T12:46:51.109965Z",
     "iopub.status.busy": "2020-07-16T12:46:51.109312Z",
     "iopub.status.idle": "2020-07-16T12:46:51.111696Z",
     "shell.execute_reply": "2020-07-16T12:46:51.111331Z"
    },
    "papermill": {
     "duration": 0.010115,
     "end_time": "2020-07-16T12:46:51.111790",
     "exception": false,
     "start_time": "2020-07-16T12:46:51.101675",
     "status": "completed"
    },
    "tags": [
     "injected-parameters"
    ]
   },
   "outputs": [],
   "source": [
    "# Parameters\n",
    "snapshotDir = \"monthly/snapshots/template/2020-07-16 14.46.47.881204/\"\n",
    "filename = \"data/sales_february.xlsx\"\n"
   ]
  },
  {
   "cell_type": "code",
   "execution_count": 4,
   "metadata": {
    "execution": {
     "iopub.execute_input": "2020-07-16T12:46:51.125232Z",
     "iopub.status.busy": "2020-07-16T12:46:51.124569Z",
     "iopub.status.idle": "2020-07-16T12:46:51.152541Z",
     "shell.execute_reply": "2020-07-16T12:46:51.151994Z"
    },
    "papermill": {
     "duration": 0.037045,
     "end_time": "2020-07-16T12:46:51.152662",
     "exception": false,
     "start_time": "2020-07-16T12:46:51.115617",
     "status": "completed"
    },
    "tags": []
   },
   "outputs": [],
   "source": [
    "data = pd.read_excel(filename, index_col=0)"
   ]
  },
  {
   "cell_type": "code",
   "execution_count": 5,
   "metadata": {
    "execution": {
     "iopub.execute_input": "2020-07-16T12:46:51.167455Z",
     "iopub.status.busy": "2020-07-16T12:46:51.166948Z",
     "iopub.status.idle": "2020-07-16T12:46:51.172274Z",
     "shell.execute_reply": "2020-07-16T12:46:51.172707Z"
    },
    "papermill": {
     "duration": 0.015154,
     "end_time": "2020-07-16T12:46:51.172823",
     "exception": false,
     "start_time": "2020-07-16T12:46:51.157669",
     "status": "completed"
    },
    "tags": []
   },
   "outputs": [
    {
     "data": {
      "text/html": [
       "<div>\n",
       "<style scoped>\n",
       "    .dataframe tbody tr th:only-of-type {\n",
       "        vertical-align: middle;\n",
       "    }\n",
       "\n",
       "    .dataframe tbody tr th {\n",
       "        vertical-align: top;\n",
       "    }\n",
       "\n",
       "    .dataframe thead th {\n",
       "        text-align: right;\n",
       "    }\n",
       "</style>\n",
       "<table border=\"1\" class=\"dataframe\">\n",
       "  <thead>\n",
       "    <tr style=\"text-align: right;\">\n",
       "      <th></th>\n",
       "      <th>Sales</th>\n",
       "    </tr>\n",
       "    <tr>\n",
       "      <th>Employee Name</th>\n",
       "      <th></th>\n",
       "    </tr>\n",
       "  </thead>\n",
       "  <tbody>\n",
       "    <tr>\n",
       "      <th>Paul</th>\n",
       "      <td>250</td>\n",
       "    </tr>\n",
       "    <tr>\n",
       "      <th>Oscar</th>\n",
       "      <td>4000</td>\n",
       "    </tr>\n",
       "    <tr>\n",
       "      <th>Richard</th>\n",
       "      <td>3250</td>\n",
       "    </tr>\n",
       "    <tr>\n",
       "      <th>Thomas</th>\n",
       "      <td>100</td>\n",
       "    </tr>\n",
       "    <tr>\n",
       "      <th>Ursula</th>\n",
       "      <td>0</td>\n",
       "    </tr>\n",
       "    <tr>\n",
       "      <th>Gabriela</th>\n",
       "      <td>260</td>\n",
       "    </tr>\n",
       "    <tr>\n",
       "      <th>Allison</th>\n",
       "      <td>890</td>\n",
       "    </tr>\n",
       "    <tr>\n",
       "      <th>Louis</th>\n",
       "      <td>990</td>\n",
       "    </tr>\n",
       "  </tbody>\n",
       "</table>\n",
       "</div>"
      ],
      "text/plain": [
       "               Sales \n",
       "Employee Name        \n",
       "Paul              250\n",
       "Oscar            4000\n",
       "Richard          3250\n",
       "Thomas            100\n",
       "Ursula              0\n",
       "Gabriela          260\n",
       "Allison           890\n",
       "Louis             990"
      ]
     },
     "execution_count": 5,
     "metadata": {},
     "output_type": "execute_result"
    }
   ],
   "source": [
    "data"
   ]
  },
  {
   "cell_type": "code",
   "execution_count": 6,
   "metadata": {
    "execution": {
     "iopub.execute_input": "2020-07-16T12:46:51.186389Z",
     "iopub.status.busy": "2020-07-16T12:46:51.185435Z",
     "iopub.status.idle": "2020-07-16T12:46:51.335480Z",
     "shell.execute_reply": "2020-07-16T12:46:51.335865Z"
    },
    "papermill": {
     "duration": 0.158932,
     "end_time": "2020-07-16T12:46:51.336012",
     "exception": false,
     "start_time": "2020-07-16T12:46:51.177080",
     "status": "completed"
    },
    "tags": []
   },
   "outputs": [
    {
     "data": {
      "text/plain": [
       "<matplotlib.axes._subplots.AxesSubplot at 0x1155b2c70>"
      ]
     },
     "execution_count": 6,
     "metadata": {},
     "output_type": "execute_result"
    },
    {
     "data": {
      "image/png": "[encoded data removed]",
      "text/plain": [
       "<Figure size 432x288 with 1 Axes>"
      ]
     },
     "metadata": {
      "needs_background": "light"
     },
     "output_type": "display_data"
    }
   ],
   "source": [
    "data.plot(kind=\"bar\", title=f\"Sales report from {filename}\")"
   ]
  },
  {
   "cell_type": "code",
   "execution_count": null,
   "metadata": {
    "papermill": {
     "duration": 0.005259,
     "end_time": "2020-07-16T12:46:51.348044",
     "exception": false,
     "start_time": "2020-07-16T12:46:51.342785",
     "status": "completed"
    },
    "tags": []
   },
   "outputs": [],
   "source": []
  }
 ],
 "metadata": {
  "celltoolbar": "Tags",
  "kernelspec": {
   "display_name": "Python 3.8.1 64-bit ('playground': conda)",
   "language": "python",
   "name": "python38164bitplaygroundconda196628b2269a44878496bc7f3d0e483d"
  },
  "language_info": {
   "codemirror_mode": {
    "name": "ipython",
    "version": 3
   },
   "file_extension": ".py",
   "mimetype": "text/x-python",
   "name": "python",
   "nbconvert_exporter": "python",
   "pygments_lexer": "ipython3",
   "version": "3.8.1"
  },
  "papermill": {
   "duration": 4.612887,
   "end_time": "2020-07-16T12:46:52.659211",
   "environment_variables": {},
   "exception": null,
   "input_path": "monthly/template.ipynb",
   "output_path": "monthly/snapshots/template/2020-07-16 14.46.47.881204/template.ipynb",
   "parameters": {
    "filename": "data/sales_february.xlsx",
    "snapshotDir": "monthly/snapshots/template/2020-07-16 14.46.47.881204/"
   },
   "start_time": "2020-07-16T12:46:48.046324",
   "version": "2.1.2"
  }
 },
 "nbformat": 4,
 "nbformat_minor": 2
}