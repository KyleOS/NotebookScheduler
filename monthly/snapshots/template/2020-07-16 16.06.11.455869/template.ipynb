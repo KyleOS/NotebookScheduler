{
 "cells": [
  {
   "cell_type": "markdown",
   "metadata": {
    "papermill": {
     "duration": 0.007879,
     "end_time": "2020-07-16T14:06:14.357680",
     "exception": false,
     "start_time": "2020-07-16T14:06:14.349801",
     "status": "completed"
    },
    "tags": []
   },
   "source": [
    "# Sales Report"
   ]
  },
  {
   "cell_type": "code",
   "execution_count": 1,
   "metadata": {
    "execution": {
     "iopub.execute_input": "2020-07-16T14:06:14.382162Z",
     "iopub.status.busy": "2020-07-16T14:06:14.381213Z",
     "iopub.status.idle": "2020-07-16T14:06:15.956620Z",
     "shell.execute_reply": "2020-07-16T14:06:15.956083Z"
    },
    "papermill": {
     "duration": 1.588186,
     "end_time": "2020-07-16T14:06:15.956754",
     "exception": false,
     "start_time": "2020-07-16T14:06:14.368568",
     "status": "completed"
    },
    "tags": []
   },
   "outputs": [],
   "source": [
    "import pandas as pd\n",
    "import matplotlib.pyplot as plt\n",
    "%matplotlib inline"
   ]
  },
  {
   "cell_type": "code",
   "execution_count": 2,
   "metadata": {
    "execution": {
     "iopub.execute_input": "2020-07-16T14:06:15.969158Z",
     "iopub.status.busy": "2020-07-16T14:06:15.968428Z",
     "iopub.status.idle": "2020-07-16T14:06:15.970476Z",
     "shell.execute_reply": "2020-07-16T14:06:15.970890Z"
    },
    "papermill": {
     "duration": 0.009465,
     "end_time": "2020-07-16T14:06:15.971002",
     "exception": false,
     "start_time": "2020-07-16T14:06:15.961537",
     "status": "completed"
    },
    "tags": [
     "parameters"
    ]
   },
   "outputs": [],
   "source": [
    "filename = \"../data/sales_january.xlsx\""
   ]
  },
  {
   "cell_type": "code",
   "execution_count": 3,
   "metadata": {
    "execution": {
     "iopub.execute_input": "2020-07-16T14:06:15.982222Z",
     "iopub.status.busy": "2020-07-16T14:06:15.981637Z",
     "iopub.status.idle": "2020-07-16T14:06:15.983327Z",
     "shell.execute_reply": "2020-07-16T14:06:15.983668Z"
    },
    "papermill": {
     "duration": 0.00865,
     "end_time": "2020-07-16T14:06:15.983779",
     "exception": false,
     "start_time": "2020-07-16T14:06:15.975129",
     "status": "completed"
    },
    "tags": [
     "injected-parameters"
    ]
   },
   "outputs": [],
   "source": [
    "# Parameters\n",
    "snapshotDir = \"monthly/snapshots/template/2020-07-16 16.06.11.455869/\"\n",
    "filename = \"data/sales_february.xlsx\"\n"
   ]
  },
  {
   "cell_type": "code",
   "execution_count": 4,
   "metadata": {
    "execution": {
     "iopub.execute_input": "2020-07-16T14:06:15.997013Z",
     "iopub.status.busy": "2020-07-16T14:06:15.996421Z",
     "iopub.status.idle": "2020-07-16T14:06:16.067115Z",
     "shell.execute_reply": "2020-07-16T14:06:16.066682Z"
    },
    "papermill": {
     "duration": 0.078375,
     "end_time": "2020-07-16T14:06:16.067232",
     "exception": false,
     "start_time": "2020-07-16T14:06:15.988857",
     "status": "completed"
    },
    "tags": []
   },
   "outputs": [],
   "source": [
    "data = pd.read_excel(filename, index_col=0)"
   ]
  },
  {
   "cell_type": "code",
   "execution_count": 5,
   "metadata": {
    "execution": {
     "iopub.execute_input": "2020-07-16T14:06:16.080761Z",
     "iopub.status.busy": "2020-07-16T14:06:16.080221Z",
     "iopub.status.idle": "2020-07-16T14:06:16.083775Z",
     "shell.execute_reply": "2020-07-16T14:06:16.083339Z"
    },
    "papermill": {
     "duration": 0.011647,
     "end_time": "2020-07-16T14:06:16.083872",
     "exception": false,
     "start_time": "2020-07-16T14:06:16.072225",
     "status": "completed"
    },
    "tags": []
   },
   "outputs": [
    {
     "data": {
      "text/plain": [
       "'sales_february.xlsx'"
      ]
     },
     "execution_count": 5,
     "metadata": {},
     "output_type": "execute_result"
    }
   ],
   "source": [
    "filename.rsplit('/', 1)[1]"
   ]
  },
  {
   "cell_type": "code",
   "execution_count": 6,
   "metadata": {
    "execution": {
     "iopub.execute_input": "2020-07-16T14:06:16.098512Z",
     "iopub.status.busy": "2020-07-16T14:06:16.098007Z",
     "iopub.status.idle": "2020-07-16T14:06:16.104231Z",
     "shell.execute_reply": "2020-07-16T14:06:16.103782Z"
    },
    "papermill": {
     "duration": 0.015475,
     "end_time": "2020-07-16T14:06:16.104332",
     "exception": false,
     "start_time": "2020-07-16T14:06:16.088857",
     "status": "completed"
    },
    "scrolled": true,
    "tags": []
   },
   "outputs": [
    {
     "data": {
      "text/html": [
       "<div>\n",
       "<style scoped>\n",
       "    .dataframe tbody tr th:only-of-type {\n",
       "        vertical-align: middle;\n",
       "    }\n",
       "\n",
       "    .dataframe tbody tr th {\n",
       "        vertical-align: top;\n",
       "    }\n",
       "\n",
       "    .dataframe thead th {\n",
       "        text-align: right;\n",
       "    }\n",
       "</style>\n",
       "<table border=\"1\" class=\"dataframe\">\n",
       "  <thead>\n",
       "    <tr style=\"text-align: right;\">\n",
       "      <th></th>\n",
       "      <th>Sales</th>\n",
       "    </tr>\n",
       "    <tr>\n",
       "      <th>Employee Name</th>\n",
       "      <th></th>\n",
       "    </tr>\n",
       "  </thead>\n",
       "  <tbody>\n",
       "    <tr>\n",
       "      <th>Paul</th>\n",
       "      <td>250</td>\n",
       "    </tr>\n",
       "    <tr>\n",
       "      <th>Oscar</th>\n",
       "      <td>4000</td>\n",
       "    </tr>\n",
       "    <tr>\n",
       "      <th>Richard</th>\n",
       "      <td>3250</td>\n",
       "    </tr>\n",
       "    <tr>\n",
       "      <th>Thomas</th>\n",
       "      <td>100</td>\n",
       "    </tr>\n",
       "    <tr>\n",
       "      <th>Ursula</th>\n",
       "      <td>0</td>\n",
       "    </tr>\n",
       "    <tr>\n",
       "      <th>Gabriela</th>\n",
       "      <td>260</td>\n",
       "    </tr>\n",
       "    <tr>\n",
       "      <th>Allison</th>\n",
       "      <td>890</td>\n",
       "    </tr>\n",
       "    <tr>\n",
       "      <th>Louis</th>\n",
       "      <td>990</td>\n",
       "    </tr>\n",
       "  </tbody>\n",
       "</table>\n",
       "</div>"
      ],
      "text/plain": [
       "               Sales \n",
       "Employee Name        \n",
       "Paul              250\n",
       "Oscar            4000\n",
       "Richard          3250\n",
       "Thomas            100\n",
       "Ursula              0\n",
       "Gabriela          260\n",
       "Allison           890\n",
       "Louis             990"
      ]
     },
     "execution_count": 6,
     "metadata": {},
     "output_type": "execute_result"
    }
   ],
   "source": [
    "data"
   ]
  },
  {
   "cell_type": "code",
   "execution_count": 7,
   "metadata": {
    "execution": {
     "iopub.execute_input": "2020-07-16T14:06:16.117794Z",
     "iopub.status.busy": "2020-07-16T14:06:16.117142Z",
     "iopub.status.idle": "2020-07-16T14:06:16.270460Z",
     "shell.execute_reply": "2020-07-16T14:06:16.270802Z"
    },
    "papermill": {
     "duration": 0.161833,
     "end_time": "2020-07-16T14:06:16.270923",
     "exception": false,
     "start_time": "2020-07-16T14:06:16.109090",
     "status": "completed"
    },
    "tags": []
   },
   "outputs": [
    {
     "data": {
      "text/plain": [
       "<matplotlib.axes._subplots.AxesSubplot at 0x1155c50a0>"
      ]
     },
     "execution_count": 7,
     "metadata": {},
     "output_type": "execute_result"
    },
    {
     "data": {
      "image/png": "[encoded data removed]",
      "text/plain": [
       "<Figure size 432x288 with 1 Axes>"
      ]
     },
     "metadata": {
      "needs_background": "light"
     },
     "output_type": "display_data"
    }
   ],
   "source": [
    "data.plot(kind=\"bar\", title=f\"Sales report from {filename.rsplit('/', 1)[1]}\")"
   ]
  },
  {
   "cell_type": "code",
   "execution_count": null,
   "metadata": {
    "papermill": {
     "duration": 0.005326,
     "end_time": "2020-07-16T14:06:16.281868",
     "exception": false,
     "start_time": "2020-07-16T14:06:16.276542",
     "status": "completed"
    },
    "tags": []
   },
   "outputs": [],
   "source": []
  }
 ],
 "metadata": {
  "celltoolbar": "Tags",
  "kernelspec": {
   "display_name": "Python 3.8.1 64-bit ('playground': conda)",
   "language": "python",
   "name": "python38164bitplaygroundconda196628b2269a44878496bc7f3d0e483d"
  },
  "language_info": {
   "codemirror_mode": {
    "name": "ipython",
    "version": 3
   },
   "file_extension": ".py",
   "mimetype": "text/x-python",
   "name": "python",
   "nbconvert_exporter": "python",
   "pygments_lexer": "ipython3",
   "version": "3.8.1"
  },
  "papermill": {
   "duration": 5.79377,
   "end_time": "2020-07-16T14:06:17.525987",
   "environment_variables": {},
   "exception": null,
   "input_path": "monthly/template.ipynb",
   "output_path": "monthly/snapshots/template/2020-07-16 16.06.11.455869/template.ipynb",
   "parameters": {
    "filename": "data/sales_february.xlsx",
    "snapshotDir": "monthly/snapshots/template/2020-07-16 16.06.11.455869/"
   },
   "start_time": "2020-07-16T14:06:11.732217",
   "version": "2.1.2"
  }
 },
 "nbformat": 4,
 "nbformat_minor": 2
}